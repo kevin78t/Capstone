{
    "cells": [
        {
            "metadata": {
                "collapsed": true
            },
            "cell_type": "markdown",
            "source": "Introduction/Business Problem\n\nDescription of the Problem\n\nTokyo was chosen as the host for the summer 2020 Olympic games; due to the COVID pandemic, the ceremony has been postponed to 2021.\n\nThe aim of this project is to help 2021 Olympic visitors visualize the restaurants in the area that will meet their tastes or other requirements.\n\nDiscussion of the Background\n\nTokyo is one of the most populous cities in the world, hosts many large international events, and boasts more restaurants than any other place in the world.  These restaurants cover nearly every type of international cuisine. It will be challenging for visitors to find the closest restaurants to them that fit their taste.\n\nSo, how can we leverage Foursquare API data to help us find the best restaurants for each visitor in Tokyo? In this project, Foursquare location data and clustering methods will be used to group the different districts according to their restaurant information.\n\nDescription of the Data\nFor this project, a list of Special Wards (districts) in Tokyo\nData Source: https://en.wikipedia.org/wiki/Special_wards_of_Tokyo\nDescription: We will use the above website source to get the list of all the Special Wards of Tokyo and some other information about them.\n\nRestaurants in each of the Special Wards (districts) in Tokyo\nData Source: Foursquare API\nDescription: These will help us get all the restaurants in each neighborhood. This can also be filtered to show the most popular restaurants in each area."
        }
    ],
    "metadata": {
        "kernelspec": {
            "name": "python3",
            "display_name": "Python 3.6",
            "language": "python"
        },
        "language_info": {
            "name": "python",
            "version": "3.6.9",
            "mimetype": "text/x-python",
            "codemirror_mode": {
                "name": "ipython",
                "version": 3
            },
            "pygments_lexer": "ipython3",
            "nbconvert_exporter": "python",
            "file_extension": ".py"
        }
    },
    "nbformat": 4,
    "nbformat_minor": 1
}